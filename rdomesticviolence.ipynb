{
 "cells": [
  {
   "cell_type": "code",
   "execution_count": 1,
   "id": "465b0b97",
   "metadata": {},
   "outputs": [],
   "source": [
    "import pandas as pd\n",
    "import requests\n",
    "import json\n",
    "import datetime"
   ]
  },
  {
   "cell_type": "code",
   "execution_count": 2,
   "id": "8b26ae23",
   "metadata": {},
   "outputs": [],
   "source": [
    "def get_pushshift_data(after, before, sub):\n",
    "    url = 'https://api.pushshift.io/reddit/search/submission/?&after='+str(after)+'&before='+str(before)+'&subreddit='+str(sub)+'&sort=created_utc&sort_type=asc'\n",
    "    r = requests.get(url)\n",
    "    data = json.loads(r.text, strict=False)\n",
    "    return data['data']"
   ]
  },
  {
   "cell_type": "code",
   "execution_count": 4,
   "id": "4c635ccf",
   "metadata": {},
   "outputs": [],
   "source": [
    "# Set the subreddit and current timestamp for the data you want to retrieve\n",
    "subreddit = 'domesticviolence'\n",
    "before = int(datetime.datetime.now().timestamp())  # Current timestamp"
   ]
  },
  {
   "cell_type": "code",
   "execution_count": 5,
   "id": "38023ee4",
   "metadata": {},
   "outputs": [],
   "source": [
    "# Calculate the timestamp for one year before the current time\n",
    "after = before - 31536000  # A year before current timestamp\n"
   ]
  },
  {
   "cell_type": "code",
   "execution_count": 6,
   "id": "923e59a1",
   "metadata": {},
   "outputs": [],
   "source": [
    "# Retrieve the data from the Reddit API\n",
    "data = get_pushshift_data(after, before, subreddit)\n"
   ]
  },
  {
   "cell_type": "code",
   "execution_count": 7,
   "id": "310f7175",
   "metadata": {},
   "outputs": [],
   "source": [
    "# Check if the API request was successful\n",
    "if data is None or len(data) == 0:\n",
    "    print(\"Error: No data returned from API request\")\n",
    "    exit()\n"
   ]
  },
  {
   "cell_type": "code",
   "execution_count": 8,
   "id": "d20d25dd",
   "metadata": {},
   "outputs": [],
   "source": [
    "# Initialize an empty list to store the data\n",
    "posts = []"
   ]
  },
  {
   "cell_type": "code",
   "execution_count": 9,
   "id": "5c5fc808",
   "metadata": {},
   "outputs": [],
   "source": [
    "# Iterate through the retrieved data, and store it in the list\n",
    "for post in data:\n",
    "    posts.append([post['title'], post['score'], post['created_utc']])\n"
   ]
  },
  {
   "cell_type": "code",
   "execution_count": 10,
   "id": "801dcb37",
   "metadata": {},
   "outputs": [],
   "source": [
    "# Create a Pandas DataFrame from the list of data\n",
    "df = pd.DataFrame(posts, columns=['title', 'score', 'created_utc'])\n"
   ]
  },
  {
   "cell_type": "code",
   "execution_count": 11,
   "id": "8983a17b",
   "metadata": {},
   "outputs": [
    {
     "name": "stdout",
     "output_type": "stream",
     "text": [
      "                                               title  score  created_utc\n",
      "0                            Shout out to the mods!!      1   1672478396\n",
      "1                         Do you stay or do you go….      1   1672465229\n",
      "2                              nightmares/flashbacks      1   1672460825\n",
      "3                                     The other side      1   1672459584\n",
      "4                                        Bf hates me      1   1672458824\n",
      "5                            Is this physical abuse?      1   1672451511\n",
      "6    Abusive partner has left me and I'm devastated.      1   1672448764\n",
      "7         30+ Years of Emotional and Financial Abuse      1   1672444419\n",
      "8                 Partner is threatening and abusive      1   1672427573\n",
      "9  I feel like I'm going insane. Should I finally...      1   1672424667\n"
     ]
    }
   ],
   "source": [
    "# Print the DataFrame to verify that the data was correctly retrieved\n",
    "print(df)"
   ]
  },
  {
   "cell_type": "code",
   "execution_count": null,
   "id": "a22f0352",
   "metadata": {},
   "outputs": [],
   "source": []
  }
 ],
 "metadata": {
  "kernelspec": {
   "display_name": "Python 3 (ipykernel)",
   "language": "python",
   "name": "python3"
  },
  "language_info": {
   "codemirror_mode": {
    "name": "ipython",
    "version": 3
   },
   "file_extension": ".py",
   "mimetype": "text/x-python",
   "name": "python",
   "nbconvert_exporter": "python",
   "pygments_lexer": "ipython3",
   "version": "3.10.7"
  }
 },
 "nbformat": 4,
 "nbformat_minor": 5
}
